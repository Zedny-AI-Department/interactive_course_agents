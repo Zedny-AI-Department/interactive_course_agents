{
 "cells": [
  {
   "cell_type": "code",
   "execution_count": 2,
   "id": "0b980d55",
   "metadata": {},
   "outputs": [
    {
     "name": "stdout",
     "output_type": "stream",
     "text": [
      "response: <Response [200]>\n",
      "---------------\n",
      "done\n"
     ]
    }
   ],
   "source": [
    "import requests\n",
    "\n",
    "response = requests.post(\n",
    "    f\"https://api.stability.ai/v2beta/3d/stable-fast-3d\",\n",
    "    headers={\n",
    "        \"authorization\": f\"Bearer sk-FwNYc3LNyBNfWdvyML1wSbL1WtRKdz5kuKyicYlckFbdlRdH\",\n",
    "    },\n",
    "    files={\n",
    "        \"image\": open(\"cement-2.png\", \"rb\")\n",
    "    },\n",
    "    data={\"texture_resolution\": 2048},\n",
    ")\n",
    "print(f\"response: {response}\")\n",
    "print(\"---------------\")\n",
    "if response.status_code == 200:\n",
    "    with open(\"./3d-cat-statue.glb\", 'wb') as file:\n",
    "        file.write(response.content)\n",
    "        print(\"done\")\n",
    "else:\n",
    "    raise Exception(str(response.json()))"
   ]
  },
  {
   "cell_type": "code",
   "execution_count": 7,
   "id": "07cb51d7",
   "metadata": {},
   "outputs": [],
   "source": [
    "import fal_client as fal\n",
    "import os\n",
    "FAL_KEY=\"3318951d-b342-4668-9d9b-a3b11647c38d:708824b20765cb6dc4ccf3c8a97831c7\"\n",
    "os.environ[\"FAL_KEY\"] = FAL_KEY\n",
    "\n"
   ]
  },
  {
   "cell_type": "code",
   "execution_count": 9,
   "id": "5cf88df4",
   "metadata": {},
   "outputs": [
    {
     "name": "stdout",
     "output_type": "stream",
     "text": [
      "url: https://v3.fal.media/files/zebra/uS_n8vWvOiaE2-DjqUBZc_cement-2.png\n"
     ]
    }
   ],
   "source": [
    "import fal_client\n",
    "url = await fal_client.upload_file_async(\"cement-2.png\")\n",
    "print(f\"url: {url}\")\n"
   ]
  },
  {
   "cell_type": "code",
   "execution_count": 18,
   "id": "4e2ca81c",
   "metadata": {},
   "outputs": [
    {
     "data": {
      "text/plain": [
       "str"
      ]
     },
     "execution_count": 18,
     "metadata": {},
     "output_type": "execute_result"
    }
   ],
   "source": [
    "type(url)"
   ]
  },
  {
   "cell_type": "code",
   "execution_count": 23,
   "id": "8b5e5e27",
   "metadata": {},
   "outputs": [
    {
     "name": "stdout",
     "output_type": "stream",
     "text": [
      "{'model_mesh': {'url': 'https://v3.fal.media/files/kangaroo/pjBSGaNlen18jhdWfL0jA_base_basic_pbr.glb', 'content_type': 'application/octet-stream', 'file_name': 'base_basic_pbr.glb', 'file_size': 10754980}, 'seed': 56343, 'textures': []}\n"
     ]
    }
   ],
   "source": [
    "import asyncio\n",
    "import fal_client\n",
    "\n",
    "def subscribe(image_path: str, \n",
    "                geometry_format: str = \"glb\", \n",
    "                material: str = \"PBR\", \n",
    "                quality: str = \"medium\"):\n",
    "    # The arguments that the endpoint expects\n",
    "    input_args = {\n",
    "        \"input_image_urls\": [image_path],\n",
    "        \"geometry_file_format\": geometry_format,\n",
    "        # \"material\": material,\n",
    "        \"quality\": quality,\n",
    "        # \"prompt\": \"convert image to 3d with saving object details \"\n",
    "    }\n",
    "    \n",
    "    result = fal_client.subscribe(\n",
    "        \"fal-ai/hyper3d/rodin\",\n",
    "        arguments=input_args,\n",
    "    )\n",
    "\n",
    "    # for event in handler.iter_events(with_logs=True):\n",
    "    #     print(event)\n",
    "\n",
    "    # result =  handler.get()\n",
    "\n",
    "    print(result)\n",
    "\n",
    "\n",
    "if __name__ == \"__main__\":\n",
    "    subscribe(image_path=str(url), geometry_format=\"glb\", material=\"PBR\", quality=\"high\")\n"
   ]
  },
  {
   "cell_type": "code",
   "execution_count": null,
   "id": "3c331a8f",
   "metadata": {},
   "outputs": [
    {
     "ename": "NameError",
     "evalue": "name 'handler' is not defined",
     "output_type": "error",
     "traceback": [
      "\u001b[0;31m---------------------------------------------------------------------------\u001b[0m",
      "\u001b[0;31mNameError\u001b[0m                                 Traceback (most recent call last)",
      "Cell \u001b[0;32mIn[21], line 1\u001b[0m\n\u001b[0;32m----> 1\u001b[0m \u001b[43mhandler\u001b[49m\n",
      "\u001b[0;31mNameError\u001b[0m: name 'handler' is not defined"
     ]
    }
   ],
   "source": [
    "if response.status_code == 200:\n",
    "    with open(\"./3d-cat-statue.glb\", 'wb') as file:\n",
    "        file.write(response.content)\n",
    "        print(\"done\")"
   ]
  },
  {
   "cell_type": "code",
   "execution_count": 16,
   "id": "f79ba524",
   "metadata": {},
   "outputs": [],
   "source": [
    "# import os\n",
    "# from fal_client import subscribe, upload_file, status, result  # Depending on version; adjust if needed\n",
    "\n",
    "# # Set API key (option A: environment variable)\n",
    "# # export FAL_KEY=\"YOUR_FAL_API_KEY\"\n",
    "\n",
    "# # Or config in code (if allowed)\n",
    "# # fal_client.config(credentials=\"YOUR_FAL_API_KEY\")\n",
    "\n",
    "# def image_to_3d(image_path: str, \n",
    "#                 geometry_format: str = \"glb\", \n",
    "#                 material: str = \"PBR\", \n",
    "#                 quality: str = \"medium\"):\n",
    "#     \"\"\"\n",
    "#     Calls fal-ai hyper3d rodin API to convert image → 3D model.\n",
    "#     image_url: URL of input image\n",
    "#     geometry_format: e.g. \"glb\", \"obj\" etc (if supported)\n",
    "#     material: material style, e.g. \"PBR\", etc.\n",
    "#     quality: \"low\", \"medium\", \"high\"\n",
    "#     \"\"\"\n",
    "\n",
    "#     # The arguments that the endpoint expects\n",
    "#     input_args = {\n",
    "#         \"input_image_urls\": image_path,\n",
    "#         \"geometry_file_format\": geometry_format,\n",
    "#         # \"material\": material,\n",
    "#         \"quality\": quality,\n",
    "#         \"prompt\": \"convert image to 3d with saving object details \"\n",
    "#     }\n",
    "\n",
    "#     # Submit job\n",
    "#     resp = subscribe(\n",
    "#         \"fal-ai/hyper3d/rodin\",\n",
    "#         arguments=input_args,\n",
    "#         with_logs=True,\n",
    "#         # optionally: provide callback for queue updates\n",
    "#     )\n",
    "\n",
    "#     # resp usually includes status, maybe request_id, and also final data when done\n",
    "#     print(\"Response / Model Data:\", resp)\n",
    "#     return resp\n",
    "\n",
    "\n",
    "# if __name__ == \"__main__\":\n",
    "#     # Example usage\n",
    "#     model_data = image_to_3d(url, geometry_format=\"glb\", material=\"PBR\", quality=\"high\")\n",
    "\n",
    "#     # The model_data might include a URL to download the 3D model file, or embedded data\n",
    "#     # You can save it locally or load into a 3D engine\n",
    "#     print(\"Model file URL:\", model_data.get(\"model_url\") or model_data.get(\"url\"))\n"
   ]
  },
  {
   "cell_type": "code",
   "execution_count": null,
   "id": "bba640b6",
   "metadata": {},
   "outputs": [],
   "source": []
  }
 ],
 "metadata": {
  "kernelspec": {
   "display_name": "interactive_course_data_processing",
   "language": "python",
   "name": "python3"
  },
  "language_info": {
   "codemirror_mode": {
    "name": "ipython",
    "version": 3
   },
   "file_extension": ".py",
   "mimetype": "text/x-python",
   "name": "python",
   "nbconvert_exporter": "python",
   "pygments_lexer": "ipython3",
   "version": "3.10.12"
  }
 },
 "nbformat": 4,
 "nbformat_minor": 5
}
